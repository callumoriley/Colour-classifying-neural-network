{
 "cells": [
  {
   "cell_type": "markdown",
   "id": "35c8d36c",
   "metadata": {},
   "source": [
    "# Interactive colour classifying neural network\n",
    "\n",
    "This is an interactive Jupyter Notebook for using my colour classifying neural network."
   ]
  },
  {
   "cell_type": "markdown",
   "id": "63a7165a",
   "metadata": {},
   "source": [
    "Importing all the things that we need, also setting the filename for the weights file."
   ]
  },
  {
   "cell_type": "code",
   "execution_count": 1,
   "id": "34ebea19",
   "metadata": {},
   "outputs": [],
   "source": [
    "from main import *\n",
    "from ipywidgets import interact, interactive, fixed, interact_manual\n",
    "import ipywidgets as widgets\n",
    "import numpy as np\n",
    "import matplotlib.pyplot as plt\n",
    "\n",
    "FILENAME = \"weights.npz\""
   ]
  },
  {
   "cell_type": "markdown",
   "id": "206de3d6",
   "metadata": {},
   "source": [
    "Importing the weights from the file."
   ]
  },
  {
   "cell_type": "code",
   "execution_count": 2,
   "id": "6bc63542",
   "metadata": {},
   "outputs": [],
   "source": [
    "hl_weights, ol_weights = import_weights(FILENAME)"
   ]
  },
  {
   "cell_type": "markdown",
   "id": "c8184481",
   "metadata": {},
   "source": [
    "Interactive function to input RGB colours with sliders and see what the neural network guesses."
   ]
  },
  {
   "cell_type": "code",
   "execution_count": 3,
   "id": "84eaa462",
   "metadata": {},
   "outputs": [
    {
     "data": {
      "application/vnd.jupyter.widget-view+json": {
       "model_id": "02fb80334b0e4ce6b51e76d9c8eb2c5b",
       "version_major": 2,
       "version_minor": 0
      },
      "text/plain": [
       "interactive(children=(FloatSlider(value=0.5, description='r', max=1.0, step=0.05), FloatSlider(value=0.5, desc…"
      ]
     },
     "metadata": {},
     "output_type": "display_data"
    }
   ],
   "source": [
    "@interact(r=widgets.FloatSlider(min=0, max=1, step=0.05, value=0.5),\n",
    "          g=widgets.FloatSlider(min=0, max=1, step=0.05, value=0.5),\n",
    "          b=widgets.FloatSlider(min=0, max=1, step=0.05, value=0.5)) # bound setting courtesy of ChatGPT\n",
    "def guess(r, g, b):\n",
    "    fig, ax = plt.subplots() # the colour square was generated with ChatGPT\n",
    "    square = plt.Rectangle((0, 0), 1, 1, color=(r, g, b))\n",
    "    ax.add_patch(square)\n",
    "    ax.set_xlim([0, 1])\n",
    "    ax.set_ylim([0, 1])\n",
    "    ax.set_aspect('equal', adjustable='box')\n",
    "    ax.axis('off')\n",
    "    plt.show()\n",
    "    \n",
    "    return arr_to_colour_name(forward_pass(np.array([r, g, b]), hl_weights, ol_weights))"
   ]
  }
 ],
 "metadata": {
  "kernelspec": {
   "display_name": "Python 3 (ipykernel)",
   "language": "python",
   "name": "python3"
  },
  "language_info": {
   "codemirror_mode": {
    "name": "ipython",
    "version": 3
   },
   "file_extension": ".py",
   "mimetype": "text/x-python",
   "name": "python",
   "nbconvert_exporter": "python",
   "pygments_lexer": "ipython3",
   "version": "3.10.5"
  }
 },
 "nbformat": 4,
 "nbformat_minor": 5
}
