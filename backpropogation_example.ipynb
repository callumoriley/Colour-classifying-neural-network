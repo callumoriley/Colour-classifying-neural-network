{
 "cells": [
  {
   "cell_type": "markdown",
   "id": "d8b2a802",
   "metadata": {},
   "source": [
    "# Backpropogation Neural Network example\n",
    "\n",
    "This is a Jupyter notebook to test the backpropogation example presented by Matt Mazur (https://mattmazur.com/2015/03/17/a-step-by-step-backpropagation-example/). It is used to test computational methods for implementing the process he described in a procedural way so that they can be expanded to be used on a larger neural network."
   ]
  },
  {
   "cell_type": "code",
   "execution_count": 1,
   "id": "0e142700",
   "metadata": {},
   "outputs": [],
   "source": [
    "import numpy as np\n",
    "\n",
    "def sigmoid(x):\n",
    "    return 1/(1+np.exp(-x))\n",
    "\n",
    "INPUT_NEURONS = 2\n",
    "HIDDEN_NEURONS = 2\n",
    "OUTPUT_NEURONS = 2\n",
    "\n",
    "LEARNING_RATE = 0.5\n",
    "\n",
    "training_iterations = 0"
   ]
  },
  {
   "cell_type": "code",
   "execution_count": 2,
   "id": "cd53fd1c",
   "metadata": {},
   "outputs": [],
   "source": [
    "hl_weights = np.array([[0.15, 0.20],[0.25, 0.30]]) # rows, columns\n",
    "ol_weights = np.array([[0.40, 0.45],[0.50, 0.55]])\n",
    "hidden_bias = 0.35\n",
    "output_bias = 0.60"
   ]
  },
  {
   "cell_type": "code",
   "execution_count": 3,
   "id": "129d7278",
   "metadata": {},
   "outputs": [
    {
     "data": {
      "text/plain": [
       "array([[0.15, 0.2 ],\n",
       "       [0.25, 0.3 ]])"
      ]
     },
     "execution_count": 3,
     "metadata": {},
     "output_type": "execute_result"
    }
   ],
   "source": [
    "hl_weights"
   ]
  },
  {
   "cell_type": "code",
   "execution_count": 4,
   "id": "dd07ce5b",
   "metadata": {},
   "outputs": [
    {
     "data": {
      "text/plain": [
       "array([[0.4 , 0.45],\n",
       "       [0.5 , 0.55]])"
      ]
     },
     "execution_count": 4,
     "metadata": {},
     "output_type": "execute_result"
    }
   ],
   "source": [
    "ol_weights"
   ]
  },
  {
   "cell_type": "code",
   "execution_count": 5,
   "id": "2ed9fd7f",
   "metadata": {},
   "outputs": [],
   "source": [
    "# FORWARD PASS\n",
    "input_vals = np.array([0.05, 0.10])"
   ]
  },
  {
   "cell_type": "code",
   "execution_count": 6,
   "id": "441a9e02",
   "metadata": {},
   "outputs": [],
   "source": [
    "# calculating hidden layer outputs\n",
    "hidden_nets = np.array([np.dot(w, input_vals)+hidden_bias for w in hl_weights])\n",
    "hidden_outputs = sigmoid(hidden_nets)"
   ]
  },
  {
   "cell_type": "code",
   "execution_count": 7,
   "id": "7c09c32d",
   "metadata": {},
   "outputs": [
    {
     "data": {
      "text/plain": [
       "array([0.3775, 0.3925])"
      ]
     },
     "execution_count": 7,
     "metadata": {},
     "output_type": "execute_result"
    }
   ],
   "source": [
    "hidden_nets"
   ]
  },
  {
   "cell_type": "code",
   "execution_count": 8,
   "id": "a7c300ed",
   "metadata": {},
   "outputs": [
    {
     "data": {
      "text/plain": [
       "array([0.59326999, 0.59688438])"
      ]
     },
     "execution_count": 8,
     "metadata": {},
     "output_type": "execute_result"
    }
   ],
   "source": [
    "hidden_outputs"
   ]
  },
  {
   "cell_type": "code",
   "execution_count": 9,
   "id": "b77180af",
   "metadata": {},
   "outputs": [],
   "source": [
    "# calculating output layer outputs\n",
    "output_nets = np.array([np.dot(w, hidden_outputs)+output_bias for w in ol_weights])\n",
    "output_outputs = sigmoid(output_nets)"
   ]
  },
  {
   "cell_type": "code",
   "execution_count": 10,
   "id": "d4225966",
   "metadata": {},
   "outputs": [
    {
     "data": {
      "text/plain": [
       "array([1.10590597, 1.2249214 ])"
      ]
     },
     "execution_count": 10,
     "metadata": {},
     "output_type": "execute_result"
    }
   ],
   "source": [
    "output_nets"
   ]
  },
  {
   "cell_type": "code",
   "execution_count": 11,
   "id": "d4a3f9c4",
   "metadata": {},
   "outputs": [
    {
     "data": {
      "text/plain": [
       "array([0.75136507, 0.77292847])"
      ]
     },
     "execution_count": 11,
     "metadata": {},
     "output_type": "execute_result"
    }
   ],
   "source": [
    "output_outputs"
   ]
  },
  {
   "cell_type": "code",
   "execution_count": 12,
   "id": "81e40a68",
   "metadata": {},
   "outputs": [
    {
     "data": {
      "text/plain": [
       "0.2983711087600027"
      ]
     },
     "execution_count": 12,
     "metadata": {},
     "output_type": "execute_result"
    }
   ],
   "source": [
    "# calculating error\n",
    "error = np.sum(0.5*(np.array([0.01, 0.99]) - output_outputs)**2)\n",
    "error"
   ]
  },
  {
   "cell_type": "code",
   "execution_count": 13,
   "id": "9dc4d0f4",
   "metadata": {},
   "outputs": [],
   "source": [
    "# BACKWARD PASS\n",
    "\n",
    "# calculating the changes on the output layer weights\n",
    "d_error_d_outs = -(np.array([0.01, 0.99]) - output_outputs)\n",
    "d_outs_d_nets = output_outputs*(1-output_outputs)\n",
    "#d_error_d_nets = np.multiply(d_error_d_outs, d_outs_d_nets)\n",
    "d_error_d_nets = d_error_d_outs * d_outs_d_nets\n",
    "d_nets_d_weights = np.array([hidden_outputs]*OUTPUT_NEURONS)"
   ]
  },
  {
   "cell_type": "code",
   "execution_count": 14,
   "id": "20b4d5a5",
   "metadata": {},
   "outputs": [
    {
     "data": {
      "text/plain": [
       "array([ 0.74136507, -0.21707153])"
      ]
     },
     "execution_count": 14,
     "metadata": {},
     "output_type": "execute_result"
    }
   ],
   "source": [
    "d_error_d_outs"
   ]
  },
  {
   "cell_type": "code",
   "execution_count": 15,
   "id": "56843c66",
   "metadata": {},
   "outputs": [
    {
     "data": {
      "text/plain": [
       "array([0.1868156 , 0.17551005])"
      ]
     },
     "execution_count": 15,
     "metadata": {},
     "output_type": "execute_result"
    }
   ],
   "source": [
    "d_outs_d_nets"
   ]
  },
  {
   "cell_type": "code",
   "execution_count": 16,
   "id": "25f0891f",
   "metadata": {},
   "outputs": [
    {
     "data": {
      "text/plain": [
       "array([[0.59326999, 0.59688438],\n",
       "       [0.59326999, 0.59688438]])"
      ]
     },
     "execution_count": 16,
     "metadata": {},
     "output_type": "execute_result"
    }
   ],
   "source": [
    "d_nets_d_weights"
   ]
  },
  {
   "cell_type": "code",
   "execution_count": 17,
   "id": "d50fd59d",
   "metadata": {},
   "outputs": [
    {
     "data": {
      "text/plain": [
       "'\\nd_error_d_weights = d_nets_d_weights\\nfor i in range(0, OUTPUT_NEURONS):\\n    for j in range(0, HIDDEN_NEURONS):\\n        d_error_d_weights[i, j] = d_nets_d_weights[i, j] * d_error_d_nets[i]\\n        \\nd_error_d_weights\\n'"
      ]
     },
     "execution_count": 17,
     "metadata": {},
     "output_type": "execute_result"
    }
   ],
   "source": [
    "\"\"\"\n",
    "d_error_d_weights = d_nets_d_weights\n",
    "for i in range(0, OUTPUT_NEURONS):\n",
    "    for j in range(0, HIDDEN_NEURONS):\n",
    "        d_error_d_weights[i, j] = d_nets_d_weights[i, j] * d_error_d_nets[i]\n",
    "        \n",
    "d_error_d_weights\n",
    "\"\"\""
   ]
  },
  {
   "cell_type": "code",
   "execution_count": 18,
   "id": "87f43f3e",
   "metadata": {},
   "outputs": [
    {
     "data": {
      "text/plain": [
       "array([[ 0.08216704,  0.08266763],\n",
       "       [-0.02260254, -0.02274024]])"
      ]
     },
     "execution_count": 18,
     "metadata": {},
     "output_type": "execute_result"
    }
   ],
   "source": [
    "# a better version of the above calculation (multiplying d_error_d_nets into columns of d_nets_d_weights)\n",
    "d_error_d_weights = (d_nets_d_weights.T * d_error_d_nets).T\n",
    "d_error_d_weights"
   ]
  },
  {
   "cell_type": "code",
   "execution_count": 19,
   "id": "accb34d8",
   "metadata": {},
   "outputs": [
    {
     "data": {
      "text/plain": [
       "array([[0.35891648, 0.40866619],\n",
       "       [0.51130127, 0.56137012]])"
      ]
     },
     "execution_count": 19,
     "metadata": {},
     "output_type": "execute_result"
    }
   ],
   "source": [
    "new_ol_weights = np.subtract(ol_weights, LEARNING_RATE*d_error_d_weights)\n",
    "new_ol_weights"
   ]
  },
  {
   "cell_type": "code",
   "execution_count": 20,
   "id": "f497c08b",
   "metadata": {},
   "outputs": [
    {
     "data": {
      "text/plain": [
       "array([0.03635031, 0.04137032])"
      ]
     },
     "execution_count": 20,
     "metadata": {},
     "output_type": "execute_result"
    }
   ],
   "source": [
    "# calculating the changes on the hidden layer weights\n",
    "\n",
    "d_errors_d_hiddenouts = np.array([np.dot(d_error_d_nets, ol_weights[:,i]) for i in range(0, HIDDEN_NEURONS)])\n",
    "d_errors_d_hiddenouts"
   ]
  },
  {
   "cell_type": "code",
   "execution_count": 21,
   "id": "69521afc",
   "metadata": {},
   "outputs": [
    {
     "data": {
      "text/plain": [
       "array([0.24130071, 0.24061342])"
      ]
     },
     "execution_count": 21,
     "metadata": {},
     "output_type": "execute_result"
    }
   ],
   "source": [
    "d_outs_d_nets = hidden_outputs*(1-hidden_outputs)\n",
    "d_outs_d_nets"
   ]
  },
  {
   "cell_type": "code",
   "execution_count": 22,
   "id": "c6d410df",
   "metadata": {},
   "outputs": [
    {
     "data": {
      "text/plain": [
       "array([0.00877135, 0.00995425])"
      ]
     },
     "execution_count": 22,
     "metadata": {},
     "output_type": "execute_result"
    }
   ],
   "source": [
    "d_error_d_nets = d_errors_d_hiddenouts*d_outs_d_nets\n",
    "#d_error_d_nets = np.multiply(d_errors_d_hiddenouts, d_outs_d_nets)\n",
    "d_error_d_nets"
   ]
  },
  {
   "cell_type": "code",
   "execution_count": 23,
   "id": "c092b7c0",
   "metadata": {},
   "outputs": [
    {
     "data": {
      "text/plain": [
       "array([[0.05, 0.1 ],\n",
       "       [0.05, 0.1 ]])"
      ]
     },
     "execution_count": 23,
     "metadata": {},
     "output_type": "execute_result"
    }
   ],
   "source": [
    "d_nets_d_weights = np.array([input_vals]*HIDDEN_NEURONS)\n",
    "d_nets_d_weights"
   ]
  },
  {
   "cell_type": "code",
   "execution_count": 24,
   "id": "79b549a8",
   "metadata": {},
   "outputs": [
    {
     "data": {
      "text/plain": [
       "'\\nd_error_d_weights = d_nets_d_weights\\nfor i in range(0, HIDDEN_NEURONS):\\n    for j in range(0, INPUT_NEURONS):\\n        d_error_d_weights[i, j] = d_nets_d_weights[i, j] * d_error_d_nets[i]\\n        \\nd_error_d_weights\\n'"
      ]
     },
     "execution_count": 24,
     "metadata": {},
     "output_type": "execute_result"
    }
   ],
   "source": [
    "\"\"\"\n",
    "d_error_d_weights = d_nets_d_weights\n",
    "for i in range(0, HIDDEN_NEURONS):\n",
    "    for j in range(0, INPUT_NEURONS):\n",
    "        d_error_d_weights[i, j] = d_nets_d_weights[i, j] * d_error_d_nets[i]\n",
    "        \n",
    "d_error_d_weights\n",
    "\"\"\""
   ]
  },
  {
   "cell_type": "code",
   "execution_count": 25,
   "id": "4526b4e2",
   "metadata": {},
   "outputs": [
    {
     "data": {
      "text/plain": [
       "array([[0.00043857, 0.00087714],\n",
       "       [0.00049771, 0.00099543]])"
      ]
     },
     "execution_count": 25,
     "metadata": {},
     "output_type": "execute_result"
    }
   ],
   "source": [
    "# a better version of the above calculation (multiplying d_error_d_nets into columns of d_nets_d_weights)\n",
    "d_error_d_weights = (d_nets_d_weights.T * d_error_d_nets).T\n",
    "d_error_d_weights"
   ]
  },
  {
   "cell_type": "code",
   "execution_count": 26,
   "id": "87ea51d2",
   "metadata": {},
   "outputs": [
    {
     "data": {
      "text/plain": [
       "array([[0.14978072, 0.19956143],\n",
       "       [0.24975114, 0.29950229]])"
      ]
     },
     "execution_count": 26,
     "metadata": {},
     "output_type": "execute_result"
    }
   ],
   "source": [
    "new_hl_weights = np.subtract(hl_weights, LEARNING_RATE*d_error_d_weights)\n",
    "new_hl_weights"
   ]
  },
  {
   "cell_type": "code",
   "execution_count": null,
   "id": "8a053046",
   "metadata": {},
   "outputs": [],
   "source": []
  }
 ],
 "metadata": {
  "kernelspec": {
   "display_name": "Python 3 (ipykernel)",
   "language": "python",
   "name": "python3"
  },
  "language_info": {
   "codemirror_mode": {
    "name": "ipython",
    "version": 3
   },
   "file_extension": ".py",
   "mimetype": "text/x-python",
   "name": "python",
   "nbconvert_exporter": "python",
   "pygments_lexer": "ipython3",
   "version": "3.10.5"
  }
 },
 "nbformat": 4,
 "nbformat_minor": 5
}
