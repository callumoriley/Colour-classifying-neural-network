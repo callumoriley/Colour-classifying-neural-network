{
 "cells": [
  {
   "cell_type": "markdown",
   "id": "6a8ec0e8",
   "metadata": {},
   "source": [
    "# Colour classifying neural network classification regions\n",
    "This is an interactive Jupyter Notebook for showing the colour classification distributions of my colour classifying neural network.\n",
    "\n",
    "Importing all the things that we need, also setting the filename for the weights file."
   ]
  },
  {
   "cell_type": "code",
   "execution_count": 1,
   "id": "7e951517",
   "metadata": {},
   "outputs": [],
   "source": [
    "from main import *\n",
    "from ipywidgets import interact, interactive, fixed, interact_manual\n",
    "import ipywidgets as widgets\n",
    "import numpy as np\n",
    "import matplotlib.pyplot as plt\n",
    "\n",
    "FILENAME = \"weights.npz\""
   ]
  },
  {
   "cell_type": "markdown",
   "id": "4e306156",
   "metadata": {},
   "source": [
    "Importing the weights from the file."
   ]
  },
  {
   "cell_type": "code",
   "execution_count": 2,
   "id": "b23571a4",
   "metadata": {},
   "outputs": [],
   "source": [
    "hl_weights, ol_weights = import_weights(FILENAME)"
   ]
  },
  {
   "cell_type": "markdown",
   "id": "9f1bb9c7",
   "metadata": {},
   "source": [
    "Creating an interactive window to show a 2D representation of two of the RGB values changing as one is held constant, classifying those colours, and drawing separation lines between different colours."
   ]
  },
  {
   "cell_type": "code",
   "execution_count": 16,
   "id": "c94ae8a5",
   "metadata": {},
   "outputs": [
    {
     "data": {
      "application/vnd.jupyter.widget-view+json": {
       "model_id": "139042d537f94e649e7345a8cce7ba38",
       "version_major": 2,
       "version_minor": 0
      },
      "text/plain": [
       "interactive(children=(FloatSlider(value=0.5, description='slider', max=1.0), RadioButtons(description='Select …"
      ]
     },
     "metadata": {},
     "output_type": "display_data"
    }
   ],
   "source": [
    "@interact(slider=widgets.FloatSlider(min=0, max=1, step=0.1, value=0.5), \n",
    "          slider_colour=widgets.RadioButtons(options=['Red', 'Green', 'Blue'],description='Select colour to change with slider:'))\n",
    "def update_canvas(slider, slider_colour):\n",
    "    selected_colour = slider_colour\n",
    "    # Create a canvas with specified dimensions\n",
    "    canvas_width = 100\n",
    "    canvas_height = 100\n",
    "    classification_step_size = 10\n",
    "    half_step_size = int(classification_step_size/2)\n",
    "\n",
    "    # Create a canvas with the gradient\n",
    "    canvas = np.zeros((canvas_height, canvas_width, 3), dtype=np.uint8)\n",
    "\n",
    "    for y in range(canvas_height):\n",
    "        for x in range(canvas_width):\n",
    "            # Interpolate the color at each pixel\n",
    "            colour1 = x/canvas_width*255\n",
    "            colour2 = y/canvas_height*255\n",
    "            colour3 = slider*255\n",
    "            \n",
    "            if selected_colour == \"Blue\":\n",
    "                canvas[y, x] = [colour1, colour2, colour3]\n",
    "            elif selected_colour == \"Green\":\n",
    "                canvas[y, x] = [colour1, colour3, colour2]\n",
    "            elif selected_colour == \"Red\":\n",
    "                canvas[y, x] = [colour3, colour1, colour2]\n",
    "                \n",
    "    classifications = []\n",
    "    for i in range(0, canvas_height):\n",
    "        current_row = []\n",
    "        for j in range(0, canvas_width):\n",
    "            current_colour = [c/255 for c in canvas[i, j]]\n",
    "            current_row.append(arr_to_colour_name(forward_pass(np.array(current_colour), hl_weights, ol_weights)))\n",
    "        \n",
    "        classifications.append(current_row)\n",
    "        \n",
    "    for i in range(1, canvas_height-1):\n",
    "        for j in range(1, canvas_width-1):\n",
    "            same = True\n",
    "            for di in range(-1, 2, 1):\n",
    "                for dj in range(-1, 2, 1):\n",
    "                    if classifications[j][i] != classifications[j+dj][i+di]:\n",
    "                        same = False\n",
    "                        break\n",
    "                if not same:\n",
    "                    break\n",
    "            if not same:\n",
    "                canvas[i, j] = [0, 0, 0]\n",
    "\n",
    "    # Display the canvas with the color gradient\n",
    "    plt.imshow(canvas)\n",
    "    plt.axis('off')  # Turn off axis labels and ticks\n",
    "    plt.show()"
   ]
  },
  {
   "cell_type": "code",
   "execution_count": null,
   "id": "f9a088e9",
   "metadata": {},
   "outputs": [],
   "source": []
  }
 ],
 "metadata": {
  "kernelspec": {
   "display_name": "Python 3 (ipykernel)",
   "language": "python",
   "name": "python3"
  },
  "language_info": {
   "codemirror_mode": {
    "name": "ipython",
    "version": 3
   },
   "file_extension": ".py",
   "mimetype": "text/x-python",
   "name": "python",
   "nbconvert_exporter": "python",
   "pygments_lexer": "ipython3",
   "version": "3.10.5"
  }
 },
 "nbformat": 4,
 "nbformat_minor": 5
}
