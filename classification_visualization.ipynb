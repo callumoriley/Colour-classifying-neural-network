{
 "cells": [
  {
   "cell_type": "markdown",
   "id": "6a8ec0e8",
   "metadata": {},
   "source": [
    "# Colour classifying neural network classification regions\n",
    "This is an interactive Jupyter Notebook for showing the colour classification distributions of my colour classifying neural network.\n",
    "\n",
    "Importing all the things that we need, also setting the filename for the weights file."
   ]
  },
  {
   "cell_type": "code",
   "execution_count": 7,
   "id": "7e951517",
   "metadata": {},
   "outputs": [],
   "source": [
    "from main import *\n",
    "from ipywidgets import interact, interactive, fixed, interact_manual\n",
    "from skimage import measure\n",
    "import ipywidgets as widgets\n",
    "import numpy as np\n",
    "import matplotlib.pyplot as plt\n",
    "\n",
    "FILENAME = \"weights.npz\""
   ]
  },
  {
   "cell_type": "markdown",
   "id": "4e306156",
   "metadata": {},
   "source": [
    "Importing the weights from the file."
   ]
  },
  {
   "cell_type": "code",
   "execution_count": 8,
   "id": "052b823d",
   "metadata": {},
   "outputs": [],
   "source": [
    "hl_weights, ol_weights = import_weights(FILENAME)"
   ]
  },
  {
   "cell_type": "markdown",
   "id": "9f1bb9c7",
   "metadata": {},
   "source": [
    "Creating an interactive window to show a 2D representation of two of the RGB values changing as one is held constant, classifying those colours, and drawing separation lines between different colours. This code is kind of slow right now, I would like to find a way to make it faster."
   ]
  },
  {
   "cell_type": "code",
   "execution_count": 9,
   "id": "c94ae8a5",
   "metadata": {},
   "outputs": [
    {
     "data": {
      "application/vnd.jupyter.widget-view+json": {
       "model_id": "b59f2462caef421e83b10f1322b44714",
       "version_major": 2,
       "version_minor": 0
      },
      "text/plain": [
       "interactive(children=(FloatSlider(value=0.5, description='slider', max=1.0), RadioButtons(description='Select …"
      ]
     },
     "metadata": {},
     "output_type": "display_data"
    }
   ],
   "source": [
    "@interact(slider=widgets.FloatSlider(min=0, max=1, step=0.1, value=0.5), \n",
    "          slider_colour=widgets.RadioButtons(options=['Red', 'Green', 'Blue'],description='Select colour to change with slider:'))\n",
    "def update_canvas(slider, slider_colour):\n",
    "    selected_colour = slider_colour\n",
    "    # Create a canvas with specified dimensions\n",
    "    canvas_width = 100\n",
    "    canvas_height = 100\n",
    "\n",
    "    # Create a canvas with the gradient\n",
    "    canvas = np.zeros((canvas_height, canvas_width, 3), dtype=np.uint8)\n",
    "\n",
    "    for y in range(canvas_height):\n",
    "        for x in range(canvas_width):\n",
    "            # Interpolate the color at each pixel\n",
    "            colour1 = x/canvas_width*255\n",
    "            colour2 = y/canvas_height*255\n",
    "            colour3 = slider*255\n",
    "            \n",
    "            if selected_colour == \"Blue\":\n",
    "                canvas[y, x] = [colour1, colour2, colour3]\n",
    "            elif selected_colour == \"Green\":\n",
    "                canvas[y, x] = [colour1, colour3, colour2]\n",
    "            elif selected_colour == \"Red\":\n",
    "                canvas[y, x] = [colour3, colour1, colour2]\n",
    "                \n",
    "    classifications = np.zeros((canvas_height, canvas_width), dtype=np.uint8)\n",
    "    for y in range(canvas_height):\n",
    "        for x in range(canvas_width):\n",
    "            current_colour = [c/255 for c in canvas[y, x]]\n",
    "            classifications[y, x] = np.argmax(forward_pass(np.array(current_colour), hl_weights, ol_weights))\n",
    "    \n",
    "    for i in range(0, len(COLOUR_NAMES)):\n",
    "        contours = measure.find_contours(classifications, i)\n",
    "        for contour in contours:\n",
    "            plt.plot(contour[:, 1], contour[:, 0], linewidth=1, color=COLOUR_NAMES[i])\n",
    "        \n",
    "        x_indices, y_indices = np.where(classifications == i)\n",
    "        centroid_x = np.mean(x_indices)\n",
    "        centroid_y = np.mean(y_indices)\n",
    "        plt.text(centroid_y-10, centroid_x, COLOUR_NAMES[i], fontsize=12, color=\"black\")\n",
    "\n",
    "    # Display the canvas with the color gradient\n",
    "    plt.imshow(canvas)\n",
    "    plt.axis('off')  # Turn off axis labels and ticks\n",
    "    plt.show()"
   ]
  },
  {
   "cell_type": "code",
   "execution_count": null,
   "id": "f9a088e9",
   "metadata": {},
   "outputs": [],
   "source": []
  }
 ],
 "metadata": {
  "kernelspec": {
   "display_name": "Python 3 (ipykernel)",
   "language": "python",
   "name": "python3"
  },
  "language_info": {
   "codemirror_mode": {
    "name": "ipython",
    "version": 3
   },
   "file_extension": ".py",
   "mimetype": "text/x-python",
   "name": "python",
   "nbconvert_exporter": "python",
   "pygments_lexer": "ipython3",
   "version": "3.10.5"
  }
 },
 "nbformat": 4,
 "nbformat_minor": 5
}
